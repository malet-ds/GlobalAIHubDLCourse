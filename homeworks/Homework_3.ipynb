{
  "nbformat": 4,
  "nbformat_minor": 0,
  "metadata": {
    "colab": {
      "name": "Homework_3.ipynb",
      "provenance": [],
      "collapsed_sections": [],
      "include_colab_link": true
    },
    "language_info": {
      "mimetype": "text/x-python",
      "nbconvert_exporter": "python",
      "name": "python",
      "file_extension": ".py",
      "version": "3.5.4",
      "pygments_lexer": "ipython3",
      "codemirror_mode": {
        "version": 3,
        "name": "ipython"
      }
    },
    "kernelspec": {
      "name": "python3",
      "display_name": "Python 3"
    },
    "accelerator": "TPU"
  },
  "cells": [
    {
      "cell_type": "markdown",
      "metadata": {
        "id": "view-in-github",
        "colab_type": "text"
      },
      "source": [
        "<a href=\"https://colab.research.google.com/github/malet-ds/GlobalAIHubDLCourse/blob/main/homeworks/Homework_3.ipynb\" target=\"_parent\"><img src=\"https://colab.research.google.com/assets/colab-badge.svg\" alt=\"Open In Colab\"/></a>"
      ]
    },
    {
      "cell_type": "markdown",
      "metadata": {
        "id": "6Xd6IQ1ZczKO"
      },
      "source": [
        "# Design Choices in Convolutional Neural Networks"
      ]
    },
    {
      "cell_type": "markdown",
      "metadata": {
        "id": "UolsLXSQczHh"
      },
      "source": [
        "###  Importing packages"
      ]
    },
    {
      "cell_type": "code",
      "metadata": {
        "trusted": true,
        "id": "kwe0QooaczHk"
      },
      "source": [
        "import numpy as np\n",
        "import keras\n",
        "from keras.datasets import mnist\n",
        "from keras.models import Sequential\n",
        "from keras.layers import Dense, Dropout, Flatten, Conv2D, MaxPooling2D\n",
        "from keras import backend as K\n",
        "from keras.preprocessing import image\n",
        "from keras.applications.mobilenet import MobileNet\n",
        "from keras.applications.vgg16 import preprocess_input, decode_predictions\n",
        "from keras.models import Model\n",
        "import timeit\n",
        "\n",
        "import warnings\n",
        "warnings.filterwarnings('ignore')"
      ],
      "execution_count": 1,
      "outputs": []
    },
    {
      "cell_type": "markdown",
      "metadata": {
        "id": "thEIzUfFczHy"
      },
      "source": [
        "### Preparing Dataset"
      ]
    },
    {
      "cell_type": "code",
      "metadata": {
        "trusted": true,
        "id": "-s6iKY5QczH0",
        "colab": {
          "base_uri": "https://localhost:8080/"
        },
        "outputId": "09f28e8d-8026-44cd-d1bf-7811aa5209d9"
      },
      "source": [
        "batch_size = 128\n",
        "num_classes = 10\n",
        "epochs = 2\n",
        "\n",
        "# input image dimensions\n",
        "img_rows, img_cols = 28, 28\n",
        "\n",
        "# the data, shuffled and split between train and test sets\n",
        "(x_train, y_train), (x_test, y_test) = mnist.load_data()\n",
        "\n",
        "if K.image_data_format() == 'channels_first':\n",
        "    x_train = x_train.reshape(x_train.shape[0], 1, img_rows, img_cols)\n",
        "    x_test = x_test.reshape(x_test.shape[0], 1, img_rows, img_cols)\n",
        "    input_shape = (1, img_rows, img_cols)\n",
        "else:\n",
        "    x_train = x_train.reshape(x_train.shape[0], img_rows, img_cols, 1)\n",
        "    x_test = x_test.reshape(x_test.shape[0], img_rows, img_cols, 1)\n",
        "    input_shape = (img_rows, img_cols, 1)\n",
        "\n",
        "x_train = x_train.astype('float32')\n",
        "x_test = x_test.astype('float32')\n",
        "x_train /= 255\n",
        "x_test /= 255\n",
        "print('x_train shape:', x_train.shape)\n",
        "print(x_train.shape[0], 'train samples')\n",
        "print(x_test.shape[0], 'test samples')\n",
        "\n",
        "# convert class vectors to binary class matrices\n",
        "y_train = keras.utils.to_categorical(y_train, num_classes)\n",
        "y_test = keras.utils.to_categorical(y_test, num_classes)"
      ],
      "execution_count": 2,
      "outputs": [
        {
          "output_type": "stream",
          "text": [
            "Downloading data from https://storage.googleapis.com/tensorflow/tf-keras-datasets/mnist.npz\n",
            "11493376/11490434 [==============================] - 0s 0us/step\n",
            "x_train shape: (60000, 28, 28, 1)\n",
            "60000 train samples\n",
            "10000 test samples\n"
          ],
          "name": "stdout"
        }
      ]
    },
    {
      "cell_type": "markdown",
      "metadata": {
        "id": "weHnDsMoczKO"
      },
      "source": [
        "## Part 1: Influence of convolution size\r\n",
        "\r\n",
        "Try the models with different convolution sizes 5x5, 7x7 and 9x9 etc.\r\n",
        "\r\n",
        "Analyze the number of model parameters, accuracy and training time"
      ]
    },
    {
      "cell_type": "markdown",
      "metadata": {
        "id": "xDmQdJkAczKP"
      },
      "source": [
        "### Model with (3 x 3) Convolution"
      ]
    },
    {
      "cell_type": "code",
      "metadata": {
        "trusted": true,
        "id": "_LbhbPPwczKQ",
        "colab": {
          "base_uri": "https://localhost:8080/"
        },
        "outputId": "c3e1bfca-9b08-47c5-85de-0c9013d2e23d"
      },
      "source": [
        "K.clear_session()\n",
        "start = timeit.default_timer()   \n",
        "model = Sequential()\n",
        "model.add(Conv2D(8, kernel_size=(3, 3), activation='relu', input_shape=input_shape))\n",
        "model.add(Conv2D(16, (3, 3), activation='relu'))\n",
        "model.add(Flatten())\n",
        "model.add(Dense(32, activation='relu'))\n",
        "model.add(Dense(num_classes, activation='softmax'))\n",
        "model.summary()\n",
        "model.compile(loss=keras.losses.categorical_crossentropy, optimizer=keras.optimizers.Adadelta(), metrics=['accuracy'])\n",
        "model.fit(x_train, y_train, batch_size=batch_size, epochs=epochs, verbose=1, validation_data=(x_test, y_test))\n",
        "end = timeit.default_timer()\n",
        "print(\"Time Taken to run the model:\",end - start, \"seconds\")  "
      ],
      "execution_count": 3,
      "outputs": [
        {
          "output_type": "stream",
          "text": [
            "Model: \"sequential\"\n",
            "_________________________________________________________________\n",
            "Layer (type)                 Output Shape              Param #   \n",
            "=================================================================\n",
            "conv2d (Conv2D)              (None, 26, 26, 8)         80        \n",
            "_________________________________________________________________\n",
            "conv2d_1 (Conv2D)            (None, 24, 24, 16)        1168      \n",
            "_________________________________________________________________\n",
            "flatten (Flatten)            (None, 9216)              0         \n",
            "_________________________________________________________________\n",
            "dense (Dense)                (None, 32)                294944    \n",
            "_________________________________________________________________\n",
            "dense_1 (Dense)              (None, 10)                330       \n",
            "=================================================================\n",
            "Total params: 296,522\n",
            "Trainable params: 296,522\n",
            "Non-trainable params: 0\n",
            "_________________________________________________________________\n",
            "Epoch 1/2\n",
            "469/469 [==============================] - 34s 71ms/step - loss: 2.2714 - accuracy: 0.1422 - val_loss: 2.1822 - val_accuracy: 0.2749\n",
            "Epoch 2/2\n",
            "469/469 [==============================] - 33s 71ms/step - loss: 2.1524 - accuracy: 0.3225 - val_loss: 2.0288 - val_accuracy: 0.5153\n",
            "Time Taken to run the model: 67.78694154699997 seconds\n"
          ],
          "name": "stdout"
        }
      ]
    },
    {
      "cell_type": "markdown",
      "metadata": {
        "id": "0DnVhOxDczKS"
      },
      "source": [
        "### Try models with different Convolution sizes"
      ]
    },
    {
      "cell_type": "code",
      "metadata": {
        "trusted": true,
        "id": "oQopxYu5czKT",
        "colab": {
          "base_uri": "https://localhost:8080/"
        },
        "outputId": "c56d5af6-6a84-4f95-c5e2-8dc8c2a6e89f"
      },
      "source": [
        "# Write your code here. Use the same architecture as above. \n",
        "K.clear_session()\n",
        "start = timeit.default_timer()   \n",
        "model = Sequential()\n",
        "model.add(Conv2D(8, kernel_size=(3, 3), activation='relu', input_shape=input_shape))\n",
        "model.add(Conv2D(16, (5,5), activation='relu'))\n",
        "model.add(Flatten())\n",
        "model.add(Dense(32, activation='relu'))\n",
        "model.add(Dense(num_classes, activation='softmax'))\n",
        "model.summary()\n",
        "model.compile(loss=keras.losses.categorical_crossentropy, optimizer=keras.optimizers.Adadelta(), metrics=['accuracy'])\n",
        "model.fit(x_train, y_train, batch_size=batch_size, epochs=epochs, verbose=1, validation_data=(x_test, y_test))\n",
        "end = timeit.default_timer()\n",
        "print(\"Time Taken to run the model:\",end - start, \"seconds\")  \n"
      ],
      "execution_count": 4,
      "outputs": [
        {
          "output_type": "stream",
          "text": [
            "Model: \"sequential\"\n",
            "_________________________________________________________________\n",
            "Layer (type)                 Output Shape              Param #   \n",
            "=================================================================\n",
            "conv2d (Conv2D)              (None, 26, 26, 8)         80        \n",
            "_________________________________________________________________\n",
            "conv2d_1 (Conv2D)            (None, 22, 22, 16)        3216      \n",
            "_________________________________________________________________\n",
            "flatten (Flatten)            (None, 7744)              0         \n",
            "_________________________________________________________________\n",
            "dense (Dense)                (None, 32)                247840    \n",
            "_________________________________________________________________\n",
            "dense_1 (Dense)              (None, 10)                330       \n",
            "=================================================================\n",
            "Total params: 251,466\n",
            "Trainable params: 251,466\n",
            "Non-trainable params: 0\n",
            "_________________________________________________________________\n",
            "Epoch 1/2\n",
            "469/469 [==============================] - 49s 103ms/step - loss: 2.2799 - accuracy: 0.1786 - val_loss: 2.2206 - val_accuracy: 0.3026\n",
            "Epoch 2/2\n",
            "469/469 [==============================] - 50s 107ms/step - loss: 2.1951 - accuracy: 0.3244 - val_loss: 2.0960 - val_accuracy: 0.3864\n",
            "Time Taken to run the model: 98.74641399299992 seconds\n"
          ],
          "name": "stdout"
        }
      ]
    },
    {
      "cell_type": "code",
      "metadata": {
        "id": "oTAM1ojBn4aG",
        "colab": {
          "base_uri": "https://localhost:8080/"
        },
        "outputId": "05a29552-fd21-41a2-94a4-8fd23e530335"
      },
      "source": [
        "# Write your code here. Use the same architecture as above. \r\n",
        "K.clear_session()\r\n",
        "start = timeit.default_timer()   \r\n",
        "model = Sequential()\r\n",
        "model.add(Conv2D(8, kernel_size=(5,5), activation='relu', input_shape=input_shape))\r\n",
        "model.add(Conv2D(16, (5,5), activation='relu'))\r\n",
        "model.add(Flatten())\r\n",
        "model.add(Dense(32, activation='relu'))\r\n",
        "model.add(Dense(num_classes, activation='softmax'))\r\n",
        "model.summary()\r\n",
        "model.compile(loss=keras.losses.categorical_crossentropy, optimizer=keras.optimizers.Adadelta(), metrics=['accuracy'])\r\n",
        "model.fit(x_train, y_train, batch_size=batch_size, epochs=epochs, verbose=1, validation_data=(x_test, y_test))\r\n",
        "end = timeit.default_timer()\r\n",
        "print(\"Time Taken to run the model:\",end - start, \"seconds\")  \r\n"
      ],
      "execution_count": 5,
      "outputs": [
        {
          "output_type": "stream",
          "text": [
            "Model: \"sequential\"\n",
            "_________________________________________________________________\n",
            "Layer (type)                 Output Shape              Param #   \n",
            "=================================================================\n",
            "conv2d (Conv2D)              (None, 24, 24, 8)         208       \n",
            "_________________________________________________________________\n",
            "conv2d_1 (Conv2D)            (None, 20, 20, 16)        3216      \n",
            "_________________________________________________________________\n",
            "flatten (Flatten)            (None, 6400)              0         \n",
            "_________________________________________________________________\n",
            "dense (Dense)                (None, 32)                204832    \n",
            "_________________________________________________________________\n",
            "dense_1 (Dense)              (None, 10)                330       \n",
            "=================================================================\n",
            "Total params: 208,586\n",
            "Trainable params: 208,586\n",
            "Non-trainable params: 0\n",
            "_________________________________________________________________\n",
            "Epoch 1/2\n",
            "469/469 [==============================] - 45s 95ms/step - loss: 2.2841 - accuracy: 0.1219 - val_loss: 2.2203 - val_accuracy: 0.2613\n",
            "Epoch 2/2\n",
            "469/469 [==============================] - 44s 95ms/step - loss: 2.1953 - accuracy: 0.3114 - val_loss: 2.0926 - val_accuracy: 0.4552\n",
            "Time Taken to run the model: 89.78272121300006 seconds\n"
          ],
          "name": "stdout"
        }
      ]
    },
    {
      "cell_type": "code",
      "metadata": {
        "id": "PNOb8hDrn416",
        "colab": {
          "base_uri": "https://localhost:8080/"
        },
        "outputId": "58b74501-cc0a-4de9-a7fb-61a2aa301501"
      },
      "source": [
        "# Write your code here. Use the same architecture as above. \r\n",
        "K.clear_session()\r\n",
        "start = timeit.default_timer()   \r\n",
        "model = Sequential()\r\n",
        "model.add(Conv2D(8, kernel_size=(7,7), activation='relu', input_shape=input_shape))\r\n",
        "model.add(Conv2D(16, (3, 3), activation='relu'))\r\n",
        "model.add(Flatten())\r\n",
        "model.add(Dense(32, activation='relu'))\r\n",
        "model.add(Dense(num_classes, activation='softmax'))\r\n",
        "model.summary()\r\n",
        "model.compile(loss=keras.losses.categorical_crossentropy, optimizer=keras.optimizers.Adadelta(), metrics=['accuracy'])\r\n",
        "model.fit(x_train, y_train, batch_size=batch_size, epochs=epochs, verbose=1, validation_data=(x_test, y_test))\r\n",
        "end = timeit.default_timer()\r\n",
        "print(\"Time Taken to run the model:\",end - start, \"seconds\")  \r\n"
      ],
      "execution_count": 6,
      "outputs": [
        {
          "output_type": "stream",
          "text": [
            "Model: \"sequential\"\n",
            "_________________________________________________________________\n",
            "Layer (type)                 Output Shape              Param #   \n",
            "=================================================================\n",
            "conv2d (Conv2D)              (None, 22, 22, 8)         400       \n",
            "_________________________________________________________________\n",
            "conv2d_1 (Conv2D)            (None, 20, 20, 16)        1168      \n",
            "_________________________________________________________________\n",
            "flatten (Flatten)            (None, 6400)              0         \n",
            "_________________________________________________________________\n",
            "dense (Dense)                (None, 32)                204832    \n",
            "_________________________________________________________________\n",
            "dense_1 (Dense)              (None, 10)                330       \n",
            "=================================================================\n",
            "Total params: 206,730\n",
            "Trainable params: 206,730\n",
            "Non-trainable params: 0\n",
            "_________________________________________________________________\n",
            "Epoch 1/2\n",
            "469/469 [==============================] - 33s 70ms/step - loss: 2.2886 - accuracy: 0.1175 - val_loss: 2.2480 - val_accuracy: 0.1849\n",
            "Epoch 2/2\n",
            "469/469 [==============================] - 33s 69ms/step - loss: 2.2323 - accuracy: 0.2198 - val_loss: 2.1783 - val_accuracy: 0.3196\n",
            "Time Taken to run the model: 65.967625817 seconds\n"
          ],
          "name": "stdout"
        }
      ]
    },
    {
      "cell_type": "code",
      "metadata": {
        "colab": {
          "base_uri": "https://localhost:8080/"
        },
        "id": "EKj1qnQP7BPb",
        "outputId": "6d3b172a-38cd-4a33-ce33-fbb732387553"
      },
      "source": [
        "K.clear_session()\r\n",
        "start = timeit.default_timer()   \r\n",
        "model = Sequential()\r\n",
        "model.add(Conv2D(8, kernel_size=(7,7), activation='relu', input_shape=input_shape))\r\n",
        "model.add(Conv2D(16, (9,9), activation='relu'))\r\n",
        "model.add(Flatten())\r\n",
        "model.add(Dense(32, activation='relu'))\r\n",
        "model.add(Dense(num_classes, activation='softmax'))\r\n",
        "model.summary()\r\n",
        "model.compile(loss=keras.losses.categorical_crossentropy, optimizer=keras.optimizers.Adadelta(), metrics=['accuracy'])\r\n",
        "model.fit(x_train, y_train, batch_size=batch_size, epochs=epochs, verbose=1, validation_data=(x_test, y_test))\r\n",
        "end = timeit.default_timer()\r\n",
        "print(\"Time Taken to run the model:\",end - start, \"seconds\")  "
      ],
      "execution_count": 7,
      "outputs": [
        {
          "output_type": "stream",
          "text": [
            "Model: \"sequential\"\n",
            "_________________________________________________________________\n",
            "Layer (type)                 Output Shape              Param #   \n",
            "=================================================================\n",
            "conv2d (Conv2D)              (None, 22, 22, 8)         400       \n",
            "_________________________________________________________________\n",
            "conv2d_1 (Conv2D)            (None, 14, 14, 16)        10384     \n",
            "_________________________________________________________________\n",
            "flatten (Flatten)            (None, 3136)              0         \n",
            "_________________________________________________________________\n",
            "dense (Dense)                (None, 32)                100384    \n",
            "_________________________________________________________________\n",
            "dense_1 (Dense)              (None, 10)                330       \n",
            "=================================================================\n",
            "Total params: 111,498\n",
            "Trainable params: 111,498\n",
            "Non-trainable params: 0\n",
            "_________________________________________________________________\n",
            "Epoch 1/2\n",
            "469/469 [==============================] - 67s 142ms/step - loss: 2.3088 - accuracy: 0.0781 - val_loss: 2.2820 - val_accuracy: 0.1162\n",
            "Epoch 2/2\n",
            "469/469 [==============================] - 66s 142ms/step - loss: 2.2716 - accuracy: 0.1442 - val_loss: 2.2325 - val_accuracy: 0.2493\n",
            "Time Taken to run the model: 133.37201297799993 seconds\n"
          ],
          "name": "stdout"
        }
      ]
    },
    {
      "cell_type": "code",
      "metadata": {
        "colab": {
          "base_uri": "https://localhost:8080/"
        },
        "id": "fMlzew7c7LNL",
        "outputId": "77ab4d69-0f65-4390-d692-6972023933be"
      },
      "source": [
        "K.clear_session()\r\n",
        "start = timeit.default_timer()   \r\n",
        "model = Sequential()\r\n",
        "model.add(Conv2D(8, kernel_size=(9,9), activation='relu', input_shape=input_shape))\r\n",
        "model.add(Conv2D(16, (9,9), activation='relu'))\r\n",
        "model.add(Flatten())\r\n",
        "model.add(Dense(32, activation='relu'))\r\n",
        "model.add(Dense(num_classes, activation='softmax'))\r\n",
        "model.summary()\r\n",
        "model.compile(loss=keras.losses.categorical_crossentropy, optimizer=keras.optimizers.Adadelta(), metrics=['accuracy'])\r\n",
        "model.fit(x_train, y_train, batch_size=batch_size, epochs=epochs, verbose=1, validation_data=(x_test, y_test))\r\n",
        "end = timeit.default_timer()\r\n",
        "print(\"Time Taken to run the model:\",end - start, \"seconds\")  "
      ],
      "execution_count": 8,
      "outputs": [
        {
          "output_type": "stream",
          "text": [
            "Model: \"sequential\"\n",
            "_________________________________________________________________\n",
            "Layer (type)                 Output Shape              Param #   \n",
            "=================================================================\n",
            "conv2d (Conv2D)              (None, 20, 20, 8)         656       \n",
            "_________________________________________________________________\n",
            "conv2d_1 (Conv2D)            (None, 12, 12, 16)        10384     \n",
            "_________________________________________________________________\n",
            "flatten (Flatten)            (None, 2304)              0         \n",
            "_________________________________________________________________\n",
            "dense (Dense)                (None, 32)                73760     \n",
            "_________________________________________________________________\n",
            "dense_1 (Dense)              (None, 10)                330       \n",
            "=================================================================\n",
            "Total params: 85,130\n",
            "Trainable params: 85,130\n",
            "Non-trainable params: 0\n",
            "_________________________________________________________________\n",
            "Epoch 1/2\n",
            "469/469 [==============================] - 55s 116ms/step - loss: 2.2997 - accuracy: 0.1081 - val_loss: 2.2784 - val_accuracy: 0.1208\n",
            "Epoch 2/2\n",
            "469/469 [==============================] - 54s 116ms/step - loss: 2.2710 - accuracy: 0.1281 - val_loss: 2.2434 - val_accuracy: 0.1557\n",
            "Time Taken to run the model: 109.4875770399999 seconds\n"
          ],
          "name": "stdout"
        }
      ]
    },
    {
      "cell_type": "markdown",
      "metadata": {
        "id": "ONNy-NSdoB69"
      },
      "source": [
        "### Write your findings about activations here?\r\n",
        "\r\n",
        "1.   The best performing model in terms of accuracy is the (3x3) convolution, followed by the (5x5). It is worth mentioning that we are using only 2 epochs, longer training may produce different results. It is unlikely, however that (7x7) or (9x9) will yield better results, given the poor performance in the second epoch.\r\n",
        "2.   In terms of training time, the larger the kernels in the model, the slower it is to train.\r\n",
        "3.   In terms of trainable parameters, larger kernels imply less parameters.\r\n",
        "\r\n",
        "\r\n"
      ]
    },
    {
      "cell_type": "markdown",
      "metadata": {
        "id": "nbjj4YUAczKW"
      },
      "source": [
        "## Part 2: Influence of Striding\r\n",
        "\r\n",
        "Try the models with different stride sizes such as 2,3,4 etc.\r\n",
        "\r\n",
        "Analyze the number of model parameters, accuracy and training time"
      ]
    },
    {
      "cell_type": "markdown",
      "metadata": {
        "id": "pr45UR1uczKW"
      },
      "source": [
        "### Model with Convolution with 2 Steps"
      ]
    },
    {
      "cell_type": "code",
      "metadata": {
        "trusted": true,
        "id": "CUB3Zt_9czKX",
        "colab": {
          "base_uri": "https://localhost:8080/"
        },
        "outputId": "cf215273-901c-4f3e-c1d5-2937af49d52e"
      },
      "source": [
        "start = timeit.default_timer()   \n",
        "model = Sequential()\n",
        "model.add(Conv2D(8, kernel_size=(3, 3), strides=2, activation='relu', input_shape=input_shape))\n",
        "model.add(Conv2D(16, (3, 3), strides=2, activation='relu'))\n",
        "model.add(Flatten())\n",
        "model.add(Dense(32, activation='relu'))\n",
        "model.add(Dense(num_classes, activation='softmax'))\n",
        "model.summary()\n",
        "model.compile(loss=keras.losses.categorical_crossentropy, optimizer=keras.optimizers.Adadelta(), metrics=['accuracy'])\n",
        "model.fit(x_train, y_train, batch_size=batch_size, epochs=epochs, verbose=1, validation_data=(x_test, y_test))\n",
        "end = timeit.default_timer()\n",
        "print(\"Time Taken to run the model:\",end - start, \"seconds\")  "
      ],
      "execution_count": 9,
      "outputs": [
        {
          "output_type": "stream",
          "text": [
            "Model: \"sequential_1\"\n",
            "_________________________________________________________________\n",
            "Layer (type)                 Output Shape              Param #   \n",
            "=================================================================\n",
            "conv2d_2 (Conv2D)            (None, 13, 13, 8)         80        \n",
            "_________________________________________________________________\n",
            "conv2d_3 (Conv2D)            (None, 6, 6, 16)          1168      \n",
            "_________________________________________________________________\n",
            "flatten_1 (Flatten)          (None, 576)               0         \n",
            "_________________________________________________________________\n",
            "dense_2 (Dense)              (None, 32)                18464     \n",
            "_________________________________________________________________\n",
            "dense_3 (Dense)              (None, 10)                330       \n",
            "=================================================================\n",
            "Total params: 20,042\n",
            "Trainable params: 20,042\n",
            "Non-trainable params: 0\n",
            "_________________________________________________________________\n",
            "Epoch 1/2\n",
            "469/469 [==============================] - 7s 15ms/step - loss: 2.2958 - accuracy: 0.1260 - val_loss: 2.2918 - val_accuracy: 0.1388\n",
            "Epoch 2/2\n",
            "469/469 [==============================] - 7s 14ms/step - loss: 2.2927 - accuracy: 0.1356 - val_loss: 2.2880 - val_accuracy: 0.1504\n",
            "Time Taken to run the model: 14.001401554999916 seconds\n"
          ],
          "name": "stdout"
        }
      ]
    },
    {
      "cell_type": "code",
      "metadata": {
        "id": "yG03EwvJovUK",
        "colab": {
          "base_uri": "https://localhost:8080/"
        },
        "outputId": "22517507-adbf-407e-ec70-8ccc6562cbfb"
      },
      "source": [
        "# Write your code here. Use the same architecture as above. \r\n",
        "start = timeit.default_timer()   \r\n",
        "model = Sequential()\r\n",
        "model.add(Conv2D(8, kernel_size=(3, 3), strides=1, activation='relu', input_shape=input_shape))\r\n",
        "model.add(Conv2D(16, (3, 3), strides=1, activation='relu'))\r\n",
        "model.add(Flatten())\r\n",
        "model.add(Dense(32, activation='relu'))\r\n",
        "model.add(Dense(num_classes, activation='softmax'))\r\n",
        "model.summary()\r\n",
        "model.compile(loss=keras.losses.categorical_crossentropy, optimizer=keras.optimizers.Adadelta(), metrics=['accuracy'])\r\n",
        "model.fit(x_train, y_train, batch_size=batch_size, epochs=epochs, verbose=1, validation_data=(x_test, y_test))\r\n",
        "end = timeit.default_timer()\r\n",
        "print(\"Time Taken to run the model:\",end - start, \"seconds\")  \r\n"
      ],
      "execution_count": 10,
      "outputs": [
        {
          "output_type": "stream",
          "text": [
            "Model: \"sequential_2\"\n",
            "_________________________________________________________________\n",
            "Layer (type)                 Output Shape              Param #   \n",
            "=================================================================\n",
            "conv2d_4 (Conv2D)            (None, 26, 26, 8)         80        \n",
            "_________________________________________________________________\n",
            "conv2d_5 (Conv2D)            (None, 24, 24, 16)        1168      \n",
            "_________________________________________________________________\n",
            "flatten_2 (Flatten)          (None, 9216)              0         \n",
            "_________________________________________________________________\n",
            "dense_4 (Dense)              (None, 32)                294944    \n",
            "_________________________________________________________________\n",
            "dense_5 (Dense)              (None, 10)                330       \n",
            "=================================================================\n",
            "Total params: 296,522\n",
            "Trainable params: 296,522\n",
            "Non-trainable params: 0\n",
            "_________________________________________________________________\n",
            "Epoch 1/2\n",
            "469/469 [==============================] - 34s 73ms/step - loss: 2.2985 - accuracy: 0.1065 - val_loss: 2.2645 - val_accuracy: 0.2051\n",
            "Epoch 2/2\n",
            "469/469 [==============================] - 33s 71ms/step - loss: 2.2494 - accuracy: 0.2513 - val_loss: 2.1933 - val_accuracy: 0.3519\n",
            "Time Taken to run the model: 67.80461907099993 seconds\n"
          ],
          "name": "stdout"
        }
      ]
    },
    {
      "cell_type": "code",
      "metadata": {
        "id": "MaUGoQaPov0I",
        "colab": {
          "base_uri": "https://localhost:8080/"
        },
        "outputId": "1eddda3a-70a3-4ad2-ed03-0e7bbadcbeb0"
      },
      "source": [
        "# Write your code here. Use the same architecture as above. \r\n",
        "start = timeit.default_timer()   \r\n",
        "model = Sequential()\r\n",
        "model.add(Conv2D(8, kernel_size=(3, 3), strides=3, activation='relu', input_shape=input_shape))\r\n",
        "model.add(Conv2D(16, (3, 3), strides=3, activation='relu'))\r\n",
        "model.add(Flatten())\r\n",
        "model.add(Dense(32, activation='relu'))\r\n",
        "model.add(Dense(num_classes, activation='softmax'))\r\n",
        "model.summary()\r\n",
        "model.compile(loss=keras.losses.categorical_crossentropy, optimizer=keras.optimizers.Adadelta(), metrics=['accuracy'])\r\n",
        "model.fit(x_train, y_train, batch_size=batch_size, epochs=epochs, verbose=1, validation_data=(x_test, y_test))\r\n",
        "end = timeit.default_timer()\r\n",
        "print(\"Time Taken to run the model:\",end - start, \"seconds\")  \r\n"
      ],
      "execution_count": 11,
      "outputs": [
        {
          "output_type": "stream",
          "text": [
            "Model: \"sequential_3\"\n",
            "_________________________________________________________________\n",
            "Layer (type)                 Output Shape              Param #   \n",
            "=================================================================\n",
            "conv2d_6 (Conv2D)            (None, 9, 9, 8)           80        \n",
            "_________________________________________________________________\n",
            "conv2d_7 (Conv2D)            (None, 3, 3, 16)          1168      \n",
            "_________________________________________________________________\n",
            "flatten_3 (Flatten)          (None, 144)               0         \n",
            "_________________________________________________________________\n",
            "dense_6 (Dense)              (None, 32)                4640      \n",
            "_________________________________________________________________\n",
            "dense_7 (Dense)              (None, 10)                330       \n",
            "=================================================================\n",
            "Total params: 6,218\n",
            "Trainable params: 6,218\n",
            "Non-trainable params: 0\n",
            "_________________________________________________________________\n",
            "Epoch 1/2\n",
            "469/469 [==============================] - 4s 7ms/step - loss: 2.3007 - accuracy: 0.1058 - val_loss: 2.2994 - val_accuracy: 0.1118\n",
            "Epoch 2/2\n",
            "469/469 [==============================] - 3s 7ms/step - loss: 2.2989 - accuracy: 0.1087 - val_loss: 2.2979 - val_accuracy: 0.1142\n",
            "Time Taken to run the model: 7.2852679309999075 seconds\n"
          ],
          "name": "stdout"
        }
      ]
    },
    {
      "cell_type": "code",
      "metadata": {
        "id": "Ypo87ms7owJX",
        "colab": {
          "base_uri": "https://localhost:8080/"
        },
        "outputId": "8fca34f8-41b5-4cfd-ac1d-4f39775eae23"
      },
      "source": [
        "# Write your code here. Use the same architecture as above. \r\n",
        "start = timeit.default_timer()   \r\n",
        "model = Sequential()\r\n",
        "model.add(Conv2D(8, kernel_size=(3, 3), strides=4, activation='relu', input_shape=input_shape))\r\n",
        "model.add(Conv2D(16, (3, 3), strides=4, activation='relu'))\r\n",
        "model.add(Flatten())\r\n",
        "model.add(Dense(32, activation='relu'))\r\n",
        "model.add(Dense(num_classes, activation='softmax'))\r\n",
        "model.summary()\r\n",
        "model.compile(loss=keras.losses.categorical_crossentropy, optimizer=keras.optimizers.Adadelta(), metrics=['accuracy'])\r\n",
        "model.fit(x_train, y_train, batch_size=batch_size, epochs=epochs, verbose=1, validation_data=(x_test, y_test))\r\n",
        "end = timeit.default_timer()\r\n",
        "print(\"Time Taken to run the model:\",end - start, \"seconds\")  \r\n"
      ],
      "execution_count": 12,
      "outputs": [
        {
          "output_type": "stream",
          "text": [
            "Model: \"sequential_4\"\n",
            "_________________________________________________________________\n",
            "Layer (type)                 Output Shape              Param #   \n",
            "=================================================================\n",
            "conv2d_8 (Conv2D)            (None, 7, 7, 8)           80        \n",
            "_________________________________________________________________\n",
            "conv2d_9 (Conv2D)            (None, 2, 2, 16)          1168      \n",
            "_________________________________________________________________\n",
            "flatten_4 (Flatten)          (None, 64)                0         \n",
            "_________________________________________________________________\n",
            "dense_8 (Dense)              (None, 32)                2080      \n",
            "_________________________________________________________________\n",
            "dense_9 (Dense)              (None, 10)                330       \n",
            "=================================================================\n",
            "Total params: 3,658\n",
            "Trainable params: 3,658\n",
            "Non-trainable params: 0\n",
            "_________________________________________________________________\n",
            "Epoch 1/2\n",
            "469/469 [==============================] - 3s 6ms/step - loss: 2.2971 - accuracy: 0.1364 - val_loss: 2.2960 - val_accuracy: 0.1405\n",
            "Epoch 2/2\n",
            "469/469 [==============================] - 3s 5ms/step - loss: 2.2964 - accuracy: 0.1425 - val_loss: 2.2948 - val_accuracy: 0.1447\n",
            "Time Taken to run the model: 6.0300943049999205 seconds\n"
          ],
          "name": "stdout"
        }
      ]
    },
    {
      "cell_type": "code",
      "metadata": {
        "colab": {
          "base_uri": "https://localhost:8080/"
        },
        "id": "_cy1K0No8MPz",
        "outputId": "26a63f3f-faee-44f3-fb1d-583dfdc96f17"
      },
      "source": [
        "start = timeit.default_timer()   \r\n",
        "model = Sequential()\r\n",
        "model.add(Conv2D(8, kernel_size=(3, 3), strides=5, activation='relu', input_shape=input_shape))\r\n",
        "model.add(Conv2D(16, (3, 3), strides=5, activation='relu'))\r\n",
        "model.add(Flatten())\r\n",
        "model.add(Dense(32, activation='relu'))\r\n",
        "model.add(Dense(num_classes, activation='softmax'))\r\n",
        "model.summary()\r\n",
        "model.compile(loss=keras.losses.categorical_crossentropy, optimizer=keras.optimizers.Adadelta(), metrics=['accuracy'])\r\n",
        "model.fit(x_train, y_train, batch_size=batch_size, epochs=epochs, verbose=1, validation_data=(x_test, y_test))\r\n",
        "end = timeit.default_timer()\r\n",
        "print(\"Time Taken to run the model:\",end - start, \"seconds\")  "
      ],
      "execution_count": 13,
      "outputs": [
        {
          "output_type": "stream",
          "text": [
            "Model: \"sequential_5\"\n",
            "_________________________________________________________________\n",
            "Layer (type)                 Output Shape              Param #   \n",
            "=================================================================\n",
            "conv2d_10 (Conv2D)           (None, 6, 6, 8)           80        \n",
            "_________________________________________________________________\n",
            "conv2d_11 (Conv2D)           (None, 1, 1, 16)          1168      \n",
            "_________________________________________________________________\n",
            "flatten_5 (Flatten)          (None, 16)                0         \n",
            "_________________________________________________________________\n",
            "dense_10 (Dense)             (None, 32)                544       \n",
            "_________________________________________________________________\n",
            "dense_11 (Dense)             (None, 10)                330       \n",
            "=================================================================\n",
            "Total params: 2,122\n",
            "Trainable params: 2,122\n",
            "Non-trainable params: 0\n",
            "_________________________________________________________________\n",
            "Epoch 1/2\n",
            "469/469 [==============================] - 3s 5ms/step - loss: 2.3022 - accuracy: 0.1619 - val_loss: 2.3020 - val_accuracy: 0.1762\n",
            "Epoch 2/2\n",
            "469/469 [==============================] - 2s 5ms/step - loss: 2.3017 - accuracy: 0.1743 - val_loss: 2.3016 - val_accuracy: 0.1787\n",
            "Time Taken to run the model: 5.012622854000028 seconds\n"
          ],
          "name": "stdout"
        }
      ]
    },
    {
      "cell_type": "markdown",
      "metadata": {
        "id": "6nH_wTLUoDJH"
      },
      "source": [
        "### Write your findings about influence of striding here?\r\n",
        "\r\n",
        "1.   Not surprisingly, the larger the stride, the faster the training time is and the smaller the number of trainable parameters.\r\n",
        "2.   Also not surprising, the lower the stride, the better accuracy. This however is based on only two epochs, longer training my lead to a different conclusion.\r\n",
        "3.    Going further, I would propose to repeat this exercise using 20 epochs to see if my conclusions hold.\r\n",
        "\r\n",
        "\r\n"
      ]
    },
    {
      "cell_type": "markdown",
      "metadata": {
        "id": "vsIaUMRIczKb"
      },
      "source": [
        "## Part 3: Influence of Padding\r\n",
        "\r\n",
        "Try the models with padding and without padding.\r\n",
        "\r\n",
        "Analyze the number of model parameters, accuracy and training time"
      ]
    },
    {
      "cell_type": "markdown",
      "metadata": {
        "id": "C8GP6BmVczKd"
      },
      "source": [
        "### Model with (3 x 3) Convolution with Same Padding"
      ]
    },
    {
      "cell_type": "code",
      "metadata": {
        "trusted": true,
        "id": "SZNcZ0BoczKe",
        "colab": {
          "base_uri": "https://localhost:8080/"
        },
        "outputId": "fb514fcc-4c03-4ed1-87ea-464e81d9d89c"
      },
      "source": [
        "start = timeit.default_timer()   \n",
        "model = Sequential()\n",
        "model.add(Conv2D(8, kernel_size=(3, 3), strides=1, padding='same', activation='relu', input_shape=input_shape))\n",
        "model.add(Conv2D(16, (3, 3), strides=1, padding='same', activation='relu'))\n",
        "model.add(Flatten())\n",
        "model.add(Dense(32, activation='relu'))\n",
        "model.add(Dense(num_classes, activation='softmax'))\n",
        "model.summary()\n",
        "model.compile(loss=keras.losses.categorical_crossentropy, optimizer=keras.optimizers.Adadelta(), metrics=['accuracy'])\n",
        "model.fit(x_train, y_train, batch_size=batch_size, epochs=epochs, verbose=1, validation_data=(x_test, y_test))\n",
        "end = timeit.default_timer()\n",
        "print(\"Time Taken to run the model:\",end - start, \"seconds\")  "
      ],
      "execution_count": 14,
      "outputs": [
        {
          "output_type": "stream",
          "text": [
            "Model: \"sequential_6\"\n",
            "_________________________________________________________________\n",
            "Layer (type)                 Output Shape              Param #   \n",
            "=================================================================\n",
            "conv2d_12 (Conv2D)           (None, 28, 28, 8)         80        \n",
            "_________________________________________________________________\n",
            "conv2d_13 (Conv2D)           (None, 28, 28, 16)        1168      \n",
            "_________________________________________________________________\n",
            "flatten_6 (Flatten)          (None, 12544)             0         \n",
            "_________________________________________________________________\n",
            "dense_12 (Dense)             (None, 32)                401440    \n",
            "_________________________________________________________________\n",
            "dense_13 (Dense)             (None, 10)                330       \n",
            "=================================================================\n",
            "Total params: 403,018\n",
            "Trainable params: 403,018\n",
            "Non-trainable params: 0\n",
            "_________________________________________________________________\n",
            "Epoch 1/2\n",
            "469/469 [==============================] - 42s 89ms/step - loss: 2.3017 - accuracy: 0.1176 - val_loss: 2.2560 - val_accuracy: 0.2850\n",
            "Epoch 2/2\n",
            "469/469 [==============================] - 42s 89ms/step - loss: 2.2379 - accuracy: 0.3374 - val_loss: 2.1664 - val_accuracy: 0.4697\n",
            "Time Taken to run the model: 84.0844027459998 seconds\n"
          ],
          "name": "stdout"
        }
      ]
    },
    {
      "cell_type": "code",
      "metadata": {
        "id": "lKKnUSgJo0R2",
        "colab": {
          "base_uri": "https://localhost:8080/"
        },
        "outputId": "1ccee27c-debb-49ed-8e24-cbc440a51c09"
      },
      "source": [
        "# Write your code here. Use the same architecture as above. \r\n",
        "start = timeit.default_timer()   \r\n",
        "model = Sequential()\r\n",
        "model.add(Conv2D(8, kernel_size=(3, 3), strides=1, padding='same', activation='relu', input_shape=input_shape))\r\n",
        "model.add(Conv2D(16, (3, 3), strides=1, padding='valid', activation='relu'))\r\n",
        "model.add(Flatten())\r\n",
        "model.add(Dense(32, activation='relu'))\r\n",
        "model.add(Dense(num_classes, activation='softmax'))\r\n",
        "model.summary()\r\n",
        "model.compile(loss=keras.losses.categorical_crossentropy, optimizer=keras.optimizers.Adadelta(), metrics=['accuracy'])\r\n",
        "model.fit(x_train, y_train, batch_size=batch_size, epochs=epochs, verbose=1, validation_data=(x_test, y_test))\r\n",
        "end = timeit.default_timer()\r\n",
        "print(\"Time Taken to run the model:\",end - start, \"seconds\")  \r\n"
      ],
      "execution_count": 15,
      "outputs": [
        {
          "output_type": "stream",
          "text": [
            "Model: \"sequential_7\"\n",
            "_________________________________________________________________\n",
            "Layer (type)                 Output Shape              Param #   \n",
            "=================================================================\n",
            "conv2d_14 (Conv2D)           (None, 28, 28, 8)         80        \n",
            "_________________________________________________________________\n",
            "conv2d_15 (Conv2D)           (None, 26, 26, 16)        1168      \n",
            "_________________________________________________________________\n",
            "flatten_7 (Flatten)          (None, 10816)             0         \n",
            "_________________________________________________________________\n",
            "dense_14 (Dense)             (None, 32)                346144    \n",
            "_________________________________________________________________\n",
            "dense_15 (Dense)             (None, 10)                330       \n",
            "=================================================================\n",
            "Total params: 347,722\n",
            "Trainable params: 347,722\n",
            "Non-trainable params: 0\n",
            "_________________________________________________________________\n",
            "Epoch 1/2\n",
            "469/469 [==============================] - 38s 80ms/step - loss: 2.2956 - accuracy: 0.1543 - val_loss: 2.2623 - val_accuracy: 0.2339\n",
            "Epoch 2/2\n",
            "469/469 [==============================] - 37s 80ms/step - loss: 2.2509 - accuracy: 0.2590 - val_loss: 2.2041 - val_accuracy: 0.3093\n",
            "Time Taken to run the model: 75.257316877 seconds\n"
          ],
          "name": "stdout"
        }
      ]
    },
    {
      "cell_type": "code",
      "metadata": {
        "id": "ddUyN3Fioz_3",
        "colab": {
          "base_uri": "https://localhost:8080/"
        },
        "outputId": "f3521a0e-3811-4f24-c86b-7b9330cd49a7"
      },
      "source": [
        "# Write your code here. Use the same architecture as above. \r\n",
        "start = timeit.default_timer()   \r\n",
        "model = Sequential()\r\n",
        "model.add(Conv2D(8, kernel_size=(3, 3), strides=1, padding='valid', activation='relu', input_shape=input_shape))\r\n",
        "model.add(Conv2D(16, (3, 3), strides=1, padding='valid', activation='relu'))\r\n",
        "model.add(Flatten())\r\n",
        "model.add(Dense(32, activation='relu'))\r\n",
        "model.add(Dense(num_classes, activation='softmax'))\r\n",
        "model.summary()\r\n",
        "model.compile(loss=keras.losses.categorical_crossentropy, optimizer=keras.optimizers.Adadelta(), metrics=['accuracy'])\r\n",
        "model.fit(x_train, y_train, batch_size=batch_size, epochs=epochs, verbose=1, validation_data=(x_test, y_test))\r\n",
        "end = timeit.default_timer()\r\n",
        "print(\"Time Taken to run the model:\",end - start, \"seconds\")  \r\n"
      ],
      "execution_count": 16,
      "outputs": [
        {
          "output_type": "stream",
          "text": [
            "Model: \"sequential_8\"\n",
            "_________________________________________________________________\n",
            "Layer (type)                 Output Shape              Param #   \n",
            "=================================================================\n",
            "conv2d_16 (Conv2D)           (None, 26, 26, 8)         80        \n",
            "_________________________________________________________________\n",
            "conv2d_17 (Conv2D)           (None, 24, 24, 16)        1168      \n",
            "_________________________________________________________________\n",
            "flatten_8 (Flatten)          (None, 9216)              0         \n",
            "_________________________________________________________________\n",
            "dense_16 (Dense)             (None, 32)                294944    \n",
            "_________________________________________________________________\n",
            "dense_17 (Dense)             (None, 10)                330       \n",
            "=================================================================\n",
            "Total params: 296,522\n",
            "Trainable params: 296,522\n",
            "Non-trainable params: 0\n",
            "_________________________________________________________________\n",
            "Epoch 1/2\n",
            "469/469 [==============================] - 34s 71ms/step - loss: 2.2847 - accuracy: 0.1523 - val_loss: 2.1520 - val_accuracy: 0.3187\n",
            "Epoch 2/2\n",
            "469/469 [==============================] - 33s 71ms/step - loss: 2.1080 - accuracy: 0.3640 - val_loss: 1.9549 - val_accuracy: 0.4836\n",
            "Time Taken to run the model: 66.88714735399981 seconds\n"
          ],
          "name": "stdout"
        }
      ]
    },
    {
      "cell_type": "markdown",
      "metadata": {
        "id": "xp-yZFx4oEqt"
      },
      "source": [
        "### Write your findings about influence of padding here?\r\n",
        "\r\n",
        "1.   'valid' padding yield better accuracy than 'same'. This might be caused by the presence of important characteristics in the borders of the images.\r\n",
        "2.    Valid padding also was faster to train, which I must say did surprised me because I was expecting the opposite. This might be caused by the reduction in trainable parameters, which also came as a surprise to me.\r\n",
        "\r\n",
        "\r\n"
      ]
    },
    {
      "cell_type": "markdown",
      "metadata": {
        "id": "KvGFyAkjczKj"
      },
      "source": [
        "## Part 4: Influence of Pooling\r\n",
        "\r\n",
        "Try the models with different pooling window sizes such as 2x2, 3x3, 4x4 etc.\r\n",
        "\r\n",
        "Analyze the number of model parameters, accuracy and training time"
      ]
    },
    {
      "cell_type": "markdown",
      "metadata": {
        "id": "R1W63cBLczKk"
      },
      "source": [
        "### Model with (3 x 3) Convolution with Pooling (2 x 2) "
      ]
    },
    {
      "cell_type": "code",
      "metadata": {
        "trusted": true,
        "id": "-qOGWya1czKl",
        "colab": {
          "base_uri": "https://localhost:8080/"
        },
        "outputId": "6cbce0b9-fa1f-4d1a-b139-a5b73f34e73e"
      },
      "source": [
        "start = timeit.default_timer()   \n",
        "model = Sequential()\n",
        "model.add(Conv2D(8, kernel_size=(3, 3), activation='relu', input_shape=input_shape))\n",
        "model.add(MaxPooling2D(pool_size=(2, 2)))\n",
        "model.add(Conv2D(16, (3, 3), activation='relu'))\n",
        "model.add(MaxPooling2D(pool_size=(2, 2)))\n",
        "model.add(Flatten())\n",
        "model.add(Dense(32, activation='relu'))\n",
        "model.add(Dense(num_classes, activation='softmax'))\n",
        "model.summary()\n",
        "model.compile(loss=keras.losses.categorical_crossentropy, optimizer=keras.optimizers.Adadelta(), metrics=['accuracy'])\n",
        "model.fit(x_train, y_train, batch_size=batch_size, epochs=epochs, verbose=1, validation_data=(x_test, y_test))\n",
        "end = timeit.default_timer()\n",
        "print(\"Time Taken to run the model:\",end - start, \"seconds\")  "
      ],
      "execution_count": 17,
      "outputs": [
        {
          "output_type": "stream",
          "text": [
            "Model: \"sequential_9\"\n",
            "_________________________________________________________________\n",
            "Layer (type)                 Output Shape              Param #   \n",
            "=================================================================\n",
            "conv2d_18 (Conv2D)           (None, 26, 26, 8)         80        \n",
            "_________________________________________________________________\n",
            "max_pooling2d (MaxPooling2D) (None, 13, 13, 8)         0         \n",
            "_________________________________________________________________\n",
            "conv2d_19 (Conv2D)           (None, 11, 11, 16)        1168      \n",
            "_________________________________________________________________\n",
            "max_pooling2d_1 (MaxPooling2 (None, 5, 5, 16)          0         \n",
            "_________________________________________________________________\n",
            "flatten_9 (Flatten)          (None, 400)               0         \n",
            "_________________________________________________________________\n",
            "dense_18 (Dense)             (None, 32)                12832     \n",
            "_________________________________________________________________\n",
            "dense_19 (Dense)             (None, 10)                330       \n",
            "=================================================================\n",
            "Total params: 14,410\n",
            "Trainable params: 14,410\n",
            "Non-trainable params: 0\n",
            "_________________________________________________________________\n",
            "Epoch 1/2\n",
            "469/469 [==============================] - 19s 39ms/step - loss: 2.3221 - accuracy: 0.1047 - val_loss: 2.3119 - val_accuracy: 0.1051\n",
            "Epoch 2/2\n",
            "469/469 [==============================] - 18s 39ms/step - loss: 2.3114 - accuracy: 0.1073 - val_loss: 2.3023 - val_accuracy: 0.1077\n",
            "Time Taken to run the model: 36.98712870300005 seconds\n"
          ],
          "name": "stdout"
        }
      ]
    },
    {
      "cell_type": "markdown",
      "metadata": {
        "id": "BUBHv14oczKp"
      },
      "source": [
        "### Model with (3 x 3) Convolution with Pooling (3 x 3) "
      ]
    },
    {
      "cell_type": "code",
      "metadata": {
        "trusted": true,
        "id": "z3iYWjRDczKr",
        "colab": {
          "base_uri": "https://localhost:8080/"
        },
        "outputId": "939c3d79-b29f-4cfa-8de5-8e3056c84a64"
      },
      "source": [
        "# Write your code here \n",
        "\n",
        "# Use the same model design from the above cell \n",
        "start = timeit.default_timer()   \n",
        "model = Sequential()\n",
        "model.add(Conv2D(8, kernel_size=(3, 3), activation='relu', input_shape=input_shape))\n",
        "model.add(MaxPooling2D(pool_size=(3,3)))\n",
        "model.add(Conv2D(16, (3, 3), activation='relu'))\n",
        "model.add(MaxPooling2D(pool_size=(3,3)))\n",
        "model.add(Flatten())\n",
        "model.add(Dense(32, activation='relu'))\n",
        "model.add(Dense(num_classes, activation='softmax'))\n",
        "model.summary()\n",
        "model.compile(loss=keras.losses.categorical_crossentropy, optimizer=keras.optimizers.Adadelta(), metrics=['accuracy'])\n",
        "model.fit(x_train, y_train, batch_size=batch_size, epochs=epochs, verbose=1, validation_data=(x_test, y_test))\n",
        "end = timeit.default_timer()\n",
        "print(\"Time Taken to run the model:\",end - start, \"seconds\")  "
      ],
      "execution_count": 18,
      "outputs": [
        {
          "output_type": "stream",
          "text": [
            "Model: \"sequential_10\"\n",
            "_________________________________________________________________\n",
            "Layer (type)                 Output Shape              Param #   \n",
            "=================================================================\n",
            "conv2d_20 (Conv2D)           (None, 26, 26, 8)         80        \n",
            "_________________________________________________________________\n",
            "max_pooling2d_2 (MaxPooling2 (None, 8, 8, 8)           0         \n",
            "_________________________________________________________________\n",
            "conv2d_21 (Conv2D)           (None, 6, 6, 16)          1168      \n",
            "_________________________________________________________________\n",
            "max_pooling2d_3 (MaxPooling2 (None, 2, 2, 16)          0         \n",
            "_________________________________________________________________\n",
            "flatten_10 (Flatten)         (None, 64)                0         \n",
            "_________________________________________________________________\n",
            "dense_20 (Dense)             (None, 32)                2080      \n",
            "_________________________________________________________________\n",
            "dense_21 (Dense)             (None, 10)                330       \n",
            "=================================================================\n",
            "Total params: 3,658\n",
            "Trainable params: 3,658\n",
            "Non-trainable params: 0\n",
            "_________________________________________________________________\n",
            "Epoch 1/2\n",
            "469/469 [==============================] - 15s 32ms/step - loss: 2.2985 - accuracy: 0.1085 - val_loss: 2.2973 - val_accuracy: 0.1148\n",
            "Epoch 2/2\n",
            "469/469 [==============================] - 15s 31ms/step - loss: 2.2966 - accuracy: 0.1113 - val_loss: 2.2944 - val_accuracy: 0.1208\n",
            "Time Taken to run the model: 30.078892746000065 seconds\n"
          ],
          "name": "stdout"
        }
      ]
    },
    {
      "cell_type": "code",
      "metadata": {
        "id": "4fsnp2wMpfTP",
        "colab": {
          "base_uri": "https://localhost:8080/"
        },
        "outputId": "d2a89fd7-e208-43e9-cd41-6ec4110ca5eb"
      },
      "source": [
        "# Write your code here \r\n",
        "\r\n",
        "# Use the same model design from the above cell \r\n",
        "start = timeit.default_timer()   \r\n",
        "model = Sequential()\r\n",
        "model.add(Conv2D(8, kernel_size=(3, 3), activation='relu', input_shape=input_shape))\r\n",
        "model.add(MaxPooling2D(pool_size=(4,4)))\r\n",
        "model.add(Conv2D(16, (3, 3), activation='relu'))\r\n",
        "model.add(MaxPooling2D(pool_size=(4,4)))\r\n",
        "model.add(Flatten())\r\n",
        "model.add(Dense(32, activation='relu'))\r\n",
        "model.add(Dense(num_classes, activation='softmax'))\r\n",
        "model.summary()\r\n",
        "model.compile(loss=keras.losses.categorical_crossentropy, optimizer=keras.optimizers.Adadelta(), metrics=['accuracy'])\r\n",
        "model.fit(x_train, y_train, batch_size=batch_size, epochs=epochs, verbose=1, validation_data=(x_test, y_test))\r\n",
        "end = timeit.default_timer()\r\n",
        "print(\"Time Taken to run the model:\",end - start, \"seconds\")  "
      ],
      "execution_count": 19,
      "outputs": [
        {
          "output_type": "stream",
          "text": [
            "Model: \"sequential_11\"\n",
            "_________________________________________________________________\n",
            "Layer (type)                 Output Shape              Param #   \n",
            "=================================================================\n",
            "conv2d_22 (Conv2D)           (None, 26, 26, 8)         80        \n",
            "_________________________________________________________________\n",
            "max_pooling2d_4 (MaxPooling2 (None, 6, 6, 8)           0         \n",
            "_________________________________________________________________\n",
            "conv2d_23 (Conv2D)           (None, 4, 4, 16)          1168      \n",
            "_________________________________________________________________\n",
            "max_pooling2d_5 (MaxPooling2 (None, 1, 1, 16)          0         \n",
            "_________________________________________________________________\n",
            "flatten_11 (Flatten)         (None, 16)                0         \n",
            "_________________________________________________________________\n",
            "dense_22 (Dense)             (None, 32)                544       \n",
            "_________________________________________________________________\n",
            "dense_23 (Dense)             (None, 10)                330       \n",
            "=================================================================\n",
            "Total params: 2,122\n",
            "Trainable params: 2,122\n",
            "Non-trainable params: 0\n",
            "_________________________________________________________________\n",
            "Epoch 1/2\n",
            "469/469 [==============================] - 14s 30ms/step - loss: 2.3202 - accuracy: 0.1006 - val_loss: 2.3183 - val_accuracy: 0.1035\n",
            "Epoch 2/2\n",
            "469/469 [==============================] - 14s 29ms/step - loss: 2.3187 - accuracy: 0.1008 - val_loss: 2.3166 - val_accuracy: 0.1034\n",
            "Time Taken to run the model: 28.267340618999924 seconds\n"
          ],
          "name": "stdout"
        }
      ]
    },
    {
      "cell_type": "markdown",
      "metadata": {
        "id": "GCBC1uTjoGQB"
      },
      "source": [
        "### Write your findings about influence of pooling here?\r\n",
        "\r\n",
        "1.   There is no general conclusion to get from this exercise in terms of accuracy vs. pooling: (3x3) worked better than (2x2) and (4x4). It is likely that the optimal value for pooling depends on the data themselves.\r\n",
        "2.   In terms of training time it's not surprising that incresed pooling lead to reduced time, mostly because it reduced significantly the number of trainable parameters.\r\n",
        "\r\n",
        "\r\n"
      ]
    }
  ]
}