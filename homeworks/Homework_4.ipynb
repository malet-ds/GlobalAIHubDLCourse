{
  "nbformat": 4,
  "nbformat_minor": 0,
  "metadata": {
    "colab": {
      "name": "Homework_4.ipynb",
      "provenance": [],
      "collapsed_sections": [],
      "include_colab_link": true
    },
    "language_info": {
      "mimetype": "text/x-python",
      "nbconvert_exporter": "python",
      "name": "python",
      "file_extension": ".py",
      "version": "3.5.4",
      "pygments_lexer": "ipython3",
      "codemirror_mode": {
        "version": 3,
        "name": "ipython"
      }
    },
    "kernelspec": {
      "name": "python3",
      "display_name": "Python 3",
      "language": "python"
    }
  },
  "cells": [
    {
      "cell_type": "markdown",
      "metadata": {
        "id": "view-in-github",
        "colab_type": "text"
      },
      "source": [
        "<a href=\"https://colab.research.google.com/github/malet-ds/GlobalAIHubDLCourse/blob/main/homeworks/Homework_4.ipynb\" target=\"_parent\"><img src=\"https://colab.research.google.com/assets/colab-badge.svg\" alt=\"Open In Colab\"/></a>"
      ]
    },
    {
      "cell_type": "markdown",
      "metadata": {
        "id": "K64BL-JSibBT"
      },
      "source": [
        "# Design Choices in Recurrent Neural Networks"
      ]
    },
    {
      "cell_type": "markdown",
      "metadata": {
        "id": "9qizsy1_ia__"
      },
      "source": [
        "###  Importing packages"
      ]
    },
    {
      "cell_type": "code",
      "metadata": {
        "trusted": true,
        "id": "SQQBH6fFibAA"
      },
      "source": [
        "import re\n",
        "import numpy as np\n",
        "import pandas as pd \n",
        "\n",
        "from sklearn.feature_extraction.text import CountVectorizer\n",
        "from sklearn.model_selection import train_test_split\n",
        "\n",
        "from keras.preprocessing import sequence\n",
        "from keras.preprocessing.text import Tokenizer\n",
        "from keras.preprocessing.sequence import pad_sequences\n",
        "from keras.models import Sequential\n",
        "from keras.layers import Dense, Embedding, LSTM\n",
        "from keras.datasets import imdb\n",
        "\n",
        "from keras.utils.np_utils import to_categorical\n",
        "\n",
        "import warnings\n",
        "warnings.filterwarnings('ignore')\n",
        "import ssl\n",
        "ssl._create_default_https_context = ssl._create_unverified_context"
      ],
      "execution_count": 1,
      "outputs": []
    },
    {
      "cell_type": "markdown",
      "metadata": {
        "id": "iq1zkjoZibAG"
      },
      "source": [
        "### Preparing Dataset"
      ]
    },
    {
      "cell_type": "code",
      "metadata": {
        "trusted": true,
        "id": "4HAT-LWqibAG",
        "colab": {
          "base_uri": "https://localhost:8080/"
        },
        "outputId": "0a0f75d3-afbc-4dbd-bc56-db6680b35df0"
      },
      "source": [
        "max_features = 1000\n",
        "maxlen = 80  # cut texts after this number of words (among top max_features most common words)\n",
        "batch_size = 32\n",
        "\n",
        "# save np.load\n",
        "#np_load_old = np.load\n",
        "\n",
        "# modify the default parameters of np.load\n",
        "#np.load = lambda *a,**k: np_load_old(*a, allow_pickle=True, **k)\n",
        "\n",
        "print('Loading data...')\n",
        "(x_train, y_train), (x_test, y_test) = imdb.load_data(num_words=max_features)\n",
        "print(len(x_train), 'train sequences')\n",
        "print(len(x_test), 'test sequences')\n",
        "\n",
        "#np.load = np_load_old\n",
        "\n",
        "print('Pad sequences (samples x time)')\n",
        "x_train = sequence.pad_sequences(x_train, maxlen=maxlen)\n",
        "x_test = sequence.pad_sequences(x_test, maxlen=maxlen)\n",
        "print('x_train shape:', x_train.shape)\n",
        "print('x_test shape:', x_test.shape)"
      ],
      "execution_count": 2,
      "outputs": [
        {
          "output_type": "stream",
          "text": [
            "Loading data...\n",
            "Downloading data from https://storage.googleapis.com/tensorflow/tf-keras-datasets/imdb.npz\n",
            "17465344/17464789 [==============================] - 0s 0us/step\n",
            "25000 train sequences\n",
            "25000 test sequences\n",
            "Pad sequences (samples x time)\n",
            "x_train shape: (25000, 80)\n",
            "x_test shape: (25000, 80)\n"
          ],
          "name": "stdout"
        }
      ]
    },
    {
      "cell_type": "markdown",
      "metadata": {
        "id": "45x9V7tSibBT"
      },
      "source": [
        "## Part 1: Influence of number of nodes\r\n",
        "\r\n",
        "Try the models with different number of nodes such as 32, 64, 128 etc.\r\n",
        "\r\n",
        "Analyze the number of model parameters, accuracy and training time"
      ]
    },
    {
      "cell_type": "markdown",
      "metadata": {
        "id": "jYmu59jHibBU"
      },
      "source": [
        "### LSTM with 8 nodes"
      ]
    },
    {
      "cell_type": "code",
      "metadata": {
        "trusted": true,
        "id": "xBy67aRQibBY",
        "colab": {
          "base_uri": "https://localhost:8080/"
        },
        "outputId": "b79e96f0-a3b2-4fd1-d8de-cadb2b8d5894"
      },
      "source": [
        "model = Sequential()\n",
        "model.add(Embedding(max_features, 8))\n",
        "model.add(LSTM(8, dropout=0.0, recurrent_dropout=0.0))\n",
        "model.add(Dense(1, activation='sigmoid'))\n",
        "model.summary()\n",
        "\n",
        "model.compile(loss='binary_crossentropy', optimizer='adam', metrics=['accuracy'])\n",
        "model.fit(x_train, y_train, batch_size=batch_size, epochs=1, validation_data=(x_test, y_test))\n",
        "\n",
        "score, acc = model.evaluate(x_test, y_test, batch_size=batch_size)\n",
        "print('Test score:', score)\n",
        "print('Test accuracy:', acc)"
      ],
      "execution_count": 3,
      "outputs": [
        {
          "output_type": "stream",
          "text": [
            "Model: \"sequential\"\n",
            "_________________________________________________________________\n",
            "Layer (type)                 Output Shape              Param #   \n",
            "=================================================================\n",
            "embedding (Embedding)        (None, None, 8)           8000      \n",
            "_________________________________________________________________\n",
            "lstm (LSTM)                  (None, 8)                 544       \n",
            "_________________________________________________________________\n",
            "dense (Dense)                (None, 1)                 9         \n",
            "=================================================================\n",
            "Total params: 8,553\n",
            "Trainable params: 8,553\n",
            "Non-trainable params: 0\n",
            "_________________________________________________________________\n",
            "782/782 [==============================] - 29s 35ms/step - loss: 0.5983 - accuracy: 0.6492 - val_loss: 0.4076 - val_accuracy: 0.8151\n",
            "782/782 [==============================] - 4s 5ms/step - loss: 0.4076 - accuracy: 0.8151\n",
            "Test score: 0.4076366126537323\n",
            "Test accuracy: 0.8150799870491028\n"
          ],
          "name": "stdout"
        }
      ]
    },
    {
      "cell_type": "markdown",
      "metadata": {
        "id": "X9ZD__ogibBb"
      },
      "source": [
        "### LSTM with 16 nodes"
      ]
    },
    {
      "cell_type": "code",
      "metadata": {
        "trusted": true,
        "id": "C5CNadYribBb"
      },
      "source": [
        "# Write your code here \n",
        "\n",
        "# Use the same layer design from the above cell "
      ],
      "execution_count": null,
      "outputs": []
    },
    {
      "cell_type": "code",
      "metadata": {
        "id": "HtWxrXlSqz_h",
        "colab": {
          "base_uri": "https://localhost:8080/"
        },
        "outputId": "85b327d2-2c2c-4fc2-d655-7ce0bbb76248"
      },
      "source": [
        "# Write your code here. Use the same architecture as above. \r\n",
        "\r\n",
        "model = Sequential()\r\n",
        "model.add(Embedding(max_features, 8))\r\n",
        "model.add(LSTM(16, dropout=0.0, recurrent_dropout=0.0))\r\n",
        "model.add(Dense(1, activation='sigmoid'))\r\n",
        "model.summary()\r\n",
        "\r\n",
        "model.compile(loss='binary_crossentropy', optimizer='adam', metrics=['accuracy'])\r\n",
        "model.fit(x_train, y_train, batch_size=batch_size, epochs=1, validation_data=(x_test, y_test))\r\n",
        "\r\n",
        "score, acc = model.evaluate(x_test, y_test, batch_size=batch_size)\r\n",
        "print('Test score:', score)\r\n",
        "print('Test accuracy:', acc)"
      ],
      "execution_count": 7,
      "outputs": [
        {
          "output_type": "stream",
          "text": [
            "Model: \"sequential_4\"\n",
            "_________________________________________________________________\n",
            "Layer (type)                 Output Shape              Param #   \n",
            "=================================================================\n",
            "embedding_4 (Embedding)      (None, None, 8)           8000      \n",
            "_________________________________________________________________\n",
            "lstm_6 (LSTM)                (None, 16)                1600      \n",
            "_________________________________________________________________\n",
            "dense_4 (Dense)              (None, 1)                 17        \n",
            "=================================================================\n",
            "Total params: 9,617\n",
            "Trainable params: 9,617\n",
            "Non-trainable params: 0\n",
            "_________________________________________________________________\n",
            "782/782 [==============================] - 29s 35ms/step - loss: 0.5872 - accuracy: 0.6538 - val_loss: 0.4103 - val_accuracy: 0.8128\n",
            "782/782 [==============================] - 4s 5ms/step - loss: 0.4103 - accuracy: 0.8128\n",
            "Test score: 0.4102766513824463\n",
            "Test accuracy: 0.8127999901771545\n"
          ],
          "name": "stdout"
        }
      ]
    },
    {
      "cell_type": "code",
      "metadata": {
        "colab": {
          "base_uri": "https://localhost:8080/"
        },
        "id": "IdGaEIqb9J40",
        "outputId": "6fa2436f-a9ae-4439-c819-bad5f39ab68d"
      },
      "source": [
        "## LSTM with 32 nodes\r\n",
        "\r\n",
        "model = Sequential()\r\n",
        "model.add(Embedding(max_features, 8))\r\n",
        "model.add(LSTM(32, dropout=0.0, recurrent_dropout=0.0))\r\n",
        "model.add(Dense(1, activation='sigmoid'))\r\n",
        "model.summary()\r\n",
        "\r\n",
        "model.compile(loss='binary_crossentropy', optimizer='adam', metrics=['accuracy'])\r\n",
        "model.fit(x_train, y_train, batch_size=batch_size, epochs=1, validation_data=(x_test, y_test))\r\n",
        "\r\n",
        "score, acc = model.evaluate(x_test, y_test, batch_size=batch_size)\r\n",
        "print('Test score:', score)\r\n",
        "print('Test accuracy:', acc)"
      ],
      "execution_count": 8,
      "outputs": [
        {
          "output_type": "stream",
          "text": [
            "Model: \"sequential_5\"\n",
            "_________________________________________________________________\n",
            "Layer (type)                 Output Shape              Param #   \n",
            "=================================================================\n",
            "embedding_5 (Embedding)      (None, None, 8)           8000      \n",
            "_________________________________________________________________\n",
            "lstm_7 (LSTM)                (None, 32)                5248      \n",
            "_________________________________________________________________\n",
            "dense_5 (Dense)              (None, 1)                 33        \n",
            "=================================================================\n",
            "Total params: 13,281\n",
            "Trainable params: 13,281\n",
            "Non-trainable params: 0\n",
            "_________________________________________________________________\n",
            "782/782 [==============================] - 31s 38ms/step - loss: 0.5708 - accuracy: 0.6753 - val_loss: 0.4737 - val_accuracy: 0.7906\n",
            "782/782 [==============================] - 5s 7ms/step - loss: 0.4737 - accuracy: 0.7906\n",
            "Test score: 0.47371402382850647\n",
            "Test accuracy: 0.7906399965286255\n"
          ],
          "name": "stdout"
        }
      ]
    },
    {
      "cell_type": "markdown",
      "metadata": {
        "id": "kFur07amrA4Z"
      },
      "source": [
        "### Write your findings about number of nodes here?\r\n",
        "\r\n",
        "1.   There is not much difference in accuracy and training time between 8 and 16 nodes. The latter has about a 1000 more parameters to train, which means that if we train more epochs, the training time will likely be significantly different.\r\n",
        "2.   32 nodes yield worse resuls in all three evaluation criteria.\r\n",
        "\r\n",
        "\r\n"
      ]
    },
    {
      "cell_type": "markdown",
      "metadata": {
        "id": "CB8nJBhFibBd"
      },
      "source": [
        "## Part 2: Influence of Embedding\r\n",
        "\r\n"
      ]
    },
    {
      "cell_type": "code",
      "metadata": {
        "trusted": true,
        "id": "rRHQ89RiibBf",
        "colab": {
          "base_uri": "https://localhost:8080/"
        },
        "outputId": "33cbd598-f782-4fb4-9b51-76257af3b47f"
      },
      "source": [
        "model = Sequential()\n",
        "model.add(Embedding(max_features, 4))\n",
        "model.add(LSTM(16, dropout=0.0, recurrent_dropout=0.0))\n",
        "model.add(Dense(1, activation='sigmoid'))\n",
        "model.summary()\n",
        "\n",
        "model.compile(loss='binary_crossentropy', optimizer='adam', metrics=['accuracy'])\n",
        "model.fit(x_train, y_train, batch_size=batch_size, epochs=1, validation_data=(x_test, y_test))\n",
        "\n",
        "score, acc = model.evaluate(x_test, y_test, batch_size=batch_size)\n",
        "print('Test score:', score)\n",
        "print('Test accuracy:', acc)"
      ],
      "execution_count": 4,
      "outputs": [
        {
          "output_type": "stream",
          "text": [
            "Model: \"sequential_1\"\n",
            "_________________________________________________________________\n",
            "Layer (type)                 Output Shape              Param #   \n",
            "=================================================================\n",
            "embedding_1 (Embedding)      (None, None, 4)           4000      \n",
            "_________________________________________________________________\n",
            "lstm_1 (LSTM)                (None, 16)                1344      \n",
            "_________________________________________________________________\n",
            "dense_1 (Dense)              (None, 1)                 17        \n",
            "=================================================================\n",
            "Total params: 5,361\n",
            "Trainable params: 5,361\n",
            "Non-trainable params: 0\n",
            "_________________________________________________________________\n",
            "782/782 [==============================] - 30s 36ms/step - loss: 0.5948 - accuracy: 0.6477 - val_loss: 0.4202 - val_accuracy: 0.8121\n",
            "782/782 [==============================] - 5s 6ms/step - loss: 0.4202 - accuracy: 0.8121\n",
            "Test score: 0.4202280342578888\n",
            "Test accuracy: 0.8121200203895569\n"
          ],
          "name": "stdout"
        }
      ]
    },
    {
      "cell_type": "code",
      "metadata": {
        "id": "LI5WWTvbr6vV",
        "colab": {
          "base_uri": "https://localhost:8080/"
        },
        "outputId": "e6828c1c-c3c6-4790-fed4-f9a5e8fe1a7b"
      },
      "source": [
        "# Write your code here. Use the same architecture as above. \r\n",
        "\r\n",
        "model = Sequential()\r\n",
        "model.add(Embedding(max_features, 8))\r\n",
        "model.add(LSTM(16, dropout=0.0, recurrent_dropout=0.0))\r\n",
        "model.add(Dense(1, activation='sigmoid'))\r\n",
        "model.summary()\r\n",
        "\r\n",
        "model.compile(loss='binary_crossentropy', optimizer='adam', metrics=['accuracy'])\r\n",
        "model.fit(x_train, y_train, batch_size=batch_size, epochs=1, validation_data=(x_test, y_test))\r\n",
        "\r\n",
        "score, acc = model.evaluate(x_test, y_test, batch_size=batch_size)\r\n",
        "print('Test score:', score)\r\n",
        "print('Test accuracy:', acc)"
      ],
      "execution_count": 9,
      "outputs": [
        {
          "output_type": "stream",
          "text": [
            "Model: \"sequential_6\"\n",
            "_________________________________________________________________\n",
            "Layer (type)                 Output Shape              Param #   \n",
            "=================================================================\n",
            "embedding_6 (Embedding)      (None, None, 8)           8000      \n",
            "_________________________________________________________________\n",
            "lstm_8 (LSTM)                (None, 16)                1600      \n",
            "_________________________________________________________________\n",
            "dense_6 (Dense)              (None, 1)                 17        \n",
            "=================================================================\n",
            "Total params: 9,617\n",
            "Trainable params: 9,617\n",
            "Non-trainable params: 0\n",
            "_________________________________________________________________\n",
            "782/782 [==============================] - 28s 34ms/step - loss: 0.5971 - accuracy: 0.6507 - val_loss: 0.4055 - val_accuracy: 0.8133\n",
            "782/782 [==============================] - 4s 5ms/step - loss: 0.4055 - accuracy: 0.8133\n",
            "Test score: 0.4054628908634186\n",
            "Test accuracy: 0.813319981098175\n"
          ],
          "name": "stdout"
        }
      ]
    },
    {
      "cell_type": "code",
      "metadata": {
        "id": "UVnNJ6Q7r8OD",
        "colab": {
          "base_uri": "https://localhost:8080/"
        },
        "outputId": "8141b0cd-adf5-410b-85d5-7fc8cc0d97e8"
      },
      "source": [
        "# Write your code here. Use the same architecture as above. \r\n",
        "\r\n",
        "model = Sequential()\r\n",
        "model.add(Embedding(max_features, 16))\r\n",
        "model.add(LSTM(16, dropout=0.0, recurrent_dropout=0.0))\r\n",
        "model.add(Dense(1, activation='sigmoid'))\r\n",
        "model.summary()\r\n",
        "\r\n",
        "model.compile(loss='binary_crossentropy', optimizer='adam', metrics=['accuracy'])\r\n",
        "model.fit(x_train, y_train, batch_size=batch_size, epochs=1, validation_data=(x_test, y_test))\r\n",
        "\r\n",
        "score, acc = model.evaluate(x_test, y_test, batch_size=batch_size)\r\n",
        "print('Test score:', score)\r\n",
        "print('Test accuracy:', acc)"
      ],
      "execution_count": 10,
      "outputs": [
        {
          "output_type": "stream",
          "text": [
            "Model: \"sequential_7\"\n",
            "_________________________________________________________________\n",
            "Layer (type)                 Output Shape              Param #   \n",
            "=================================================================\n",
            "embedding_7 (Embedding)      (None, None, 16)          16000     \n",
            "_________________________________________________________________\n",
            "lstm_9 (LSTM)                (None, 16)                2112      \n",
            "_________________________________________________________________\n",
            "dense_7 (Dense)              (None, 1)                 17        \n",
            "=================================================================\n",
            "Total params: 18,129\n",
            "Trainable params: 18,129\n",
            "Non-trainable params: 0\n",
            "_________________________________________________________________\n",
            "782/782 [==============================] - 29s 34ms/step - loss: 0.5721 - accuracy: 0.6736 - val_loss: 0.4007 - val_accuracy: 0.8152\n",
            "782/782 [==============================] - 4s 5ms/step - loss: 0.4007 - accuracy: 0.8152\n",
            "Test score: 0.4006693363189697\n",
            "Test accuracy: 0.8151999711990356\n"
          ],
          "name": "stdout"
        }
      ]
    },
    {
      "cell_type": "code",
      "metadata": {
        "colab": {
          "base_uri": "https://localhost:8080/"
        },
        "id": "XNpdvaNz918S",
        "outputId": "2c6b3c65-9c86-4c9b-975e-cc191e30efdc"
      },
      "source": [
        "model = Sequential()\r\n",
        "model.add(Embedding(max_features, 64))\r\n",
        "model.add(LSTM(16, dropout=0.0, recurrent_dropout=0.0))\r\n",
        "model.add(Dense(1, activation='sigmoid'))\r\n",
        "model.summary()\r\n",
        "\r\n",
        "model.compile(loss='binary_crossentropy', optimizer='adam', metrics=['accuracy'])\r\n",
        "model.fit(x_train, y_train, batch_size=batch_size, epochs=1, validation_data=(x_test, y_test))\r\n",
        "\r\n",
        "score, acc = model.evaluate(x_test, y_test, batch_size=batch_size)\r\n",
        "print('Test score:', score)\r\n",
        "print('Test accuracy:', acc)"
      ],
      "execution_count": 11,
      "outputs": [
        {
          "output_type": "stream",
          "text": [
            "Model: \"sequential_8\"\n",
            "_________________________________________________________________\n",
            "Layer (type)                 Output Shape              Param #   \n",
            "=================================================================\n",
            "embedding_8 (Embedding)      (None, None, 64)          64000     \n",
            "_________________________________________________________________\n",
            "lstm_10 (LSTM)               (None, 16)                5184      \n",
            "_________________________________________________________________\n",
            "dense_8 (Dense)              (None, 1)                 17        \n",
            "=================================================================\n",
            "Total params: 69,201\n",
            "Trainable params: 69,201\n",
            "Non-trainable params: 0\n",
            "_________________________________________________________________\n",
            "782/782 [==============================] - 31s 38ms/step - loss: 0.5518 - accuracy: 0.7019 - val_loss: 0.4070 - val_accuracy: 0.8156\n",
            "782/782 [==============================] - 5s 6ms/step - loss: 0.4070 - accuracy: 0.8156\n",
            "Test score: 0.4070392847061157\n",
            "Test accuracy: 0.815559983253479\n"
          ],
          "name": "stdout"
        }
      ]
    },
    {
      "cell_type": "markdown",
      "metadata": {
        "id": "bMqv2Kf1r3VP"
      },
      "source": [
        "### Write your findings about number of embedding features here?\r\n",
        "\r\n",
        "1.   Increase the embedding has a possitive effect on accuracy at the cost to longer training times. \r\n",
        "2.   The difference in time is not that long, so it might be problematic only with much larger number of epochs.\r\n",
        "3.   The gain in accuracy is also not that important and, with an accuracy larger than 0.8, the decision depends on the details of the specific use-case.\r\n"
      ]
    },
    {
      "cell_type": "markdown",
      "metadata": {
        "id": "5ENmvb0BibBi"
      },
      "source": [
        "## Part 3: Influence of Dropout\r\n",
        "\r\n",
        "Try the models with different rates of dropout from 0 to 1\r\n",
        "\r\n",
        "Analyze the number of model parameters, accuracy and training time"
      ]
    },
    {
      "cell_type": "markdown",
      "metadata": {
        "id": "HXpsYJzNibBj"
      },
      "source": [
        "### Dropout with rate 0.5"
      ]
    },
    {
      "cell_type": "code",
      "metadata": {
        "trusted": true,
        "id": "pBQ4317BibBk",
        "colab": {
          "base_uri": "https://localhost:8080/"
        },
        "outputId": "c5a88e54-5a08-4689-c5af-44f7b849bd1e"
      },
      "source": [
        "model = Sequential()\n",
        "model.add(Embedding(max_features, 32))\n",
        "model.add(LSTM(8, dropout=0.5, recurrent_dropout=0.5))\n",
        "model.add(Dense(1, activation='sigmoid'))\n",
        "model.summary()\n",
        "\n",
        "model.compile(loss='binary_crossentropy', optimizer='adam', metrics=['accuracy'])\n",
        "model.fit(x_train, y_train, batch_size=batch_size, epochs=1, validation_data=(x_test, y_test))\n",
        "\n",
        "score, acc = model.evaluate(x_test, y_test, batch_size=batch_size)\n",
        "print('Test score:', score)\n",
        "print('Test accuracy:', acc)"
      ],
      "execution_count": 5,
      "outputs": [
        {
          "output_type": "stream",
          "text": [
            "Model: \"sequential_2\"\n",
            "_________________________________________________________________\n",
            "Layer (type)                 Output Shape              Param #   \n",
            "=================================================================\n",
            "embedding_2 (Embedding)      (None, None, 32)          32000     \n",
            "_________________________________________________________________\n",
            "lstm_2 (LSTM)                (None, 8)                 1312      \n",
            "_________________________________________________________________\n",
            "dense_2 (Dense)              (None, 1)                 9         \n",
            "=================================================================\n",
            "Total params: 33,321\n",
            "Trainable params: 33,321\n",
            "Non-trainable params: 0\n",
            "_________________________________________________________________\n",
            "782/782 [==============================] - 64s 79ms/step - loss: 0.6129 - accuracy: 0.6574 - val_loss: 0.4647 - val_accuracy: 0.7868\n",
            "782/782 [==============================] - 7s 9ms/step - loss: 0.4647 - accuracy: 0.7868\n",
            "Test score: 0.4647231996059418\n",
            "Test accuracy: 0.7867599725723267\n"
          ],
          "name": "stdout"
        }
      ]
    },
    {
      "cell_type": "code",
      "metadata": {
        "trusted": true,
        "id": "rEHxPCN7ibBo",
        "colab": {
          "base_uri": "https://localhost:8080/"
        },
        "outputId": "99f58946-b2d9-4349-84f6-6e1c584b1880"
      },
      "source": [
        "# Write your code here. Use the same architecture as above. \n",
        "\n",
        "model = Sequential()\n",
        "model.add(Embedding(max_features, 32))\n",
        "model.add(LSTM(8, dropout=0.1, recurrent_dropout=0.5))\n",
        "model.add(Dense(1, activation='sigmoid'))\n",
        "model.summary()\n",
        "\n",
        "model.compile(loss='binary_crossentropy', optimizer='adam', metrics=['accuracy'])\n",
        "model.fit(x_train, y_train, batch_size=batch_size, epochs=1, validation_data=(x_test, y_test))\n",
        "\n",
        "score, acc = model.evaluate(x_test, y_test, batch_size=batch_size)\n",
        "print('Test score:', score)\n",
        "print('Test accuracy:', acc)"
      ],
      "execution_count": 18,
      "outputs": [
        {
          "output_type": "stream",
          "text": [
            "Model: \"sequential_14\"\n",
            "_________________________________________________________________\n",
            "Layer (type)                 Output Shape              Param #   \n",
            "=================================================================\n",
            "embedding_14 (Embedding)     (None, None, 32)          32000     \n",
            "_________________________________________________________________\n",
            "lstm_19 (LSTM)               (None, 8)                 1312      \n",
            "_________________________________________________________________\n",
            "dense_14 (Dense)             (None, 1)                 9         \n",
            "=================================================================\n",
            "Total params: 33,321\n",
            "Trainable params: 33,321\n",
            "Non-trainable params: 0\n",
            "_________________________________________________________________\n",
            "782/782 [==============================] - 63s 77ms/step - loss: 0.5926 - accuracy: 0.6751 - val_loss: 0.4112 - val_accuracy: 0.8116\n",
            "782/782 [==============================] - 7s 8ms/step - loss: 0.4112 - accuracy: 0.8116\n",
            "Test score: 0.41116905212402344\n",
            "Test accuracy: 0.8116400241851807\n"
          ],
          "name": "stdout"
        }
      ]
    },
    {
      "cell_type": "code",
      "metadata": {
        "id": "--A0IdGbsAa-",
        "colab": {
          "base_uri": "https://localhost:8080/"
        },
        "outputId": "b4c61b1f-f566-4b5a-aef5-30d34bfdc0a8"
      },
      "source": [
        "# Write your code here. Use the same architecture as above. \r\n",
        "\r\n",
        "model = Sequential()\r\n",
        "model.add(Embedding(max_features, 32))\r\n",
        "model.add(LSTM(8, dropout=0.3, recurrent_dropout=0.5))\r\n",
        "model.add(Dense(1, activation='sigmoid'))\r\n",
        "model.summary()\r\n",
        "\r\n",
        "model.compile(loss='binary_crossentropy', optimizer='adam', metrics=['accuracy'])\r\n",
        "model.fit(x_train, y_train, batch_size=batch_size, epochs=1, validation_data=(x_test, y_test))\r\n",
        "\r\n",
        "score, acc = model.evaluate(x_test, y_test, batch_size=batch_size)\r\n",
        "print('Test score:', score)\r\n",
        "print('Test accuracy:', acc)"
      ],
      "execution_count": 19,
      "outputs": [
        {
          "output_type": "stream",
          "text": [
            "Model: \"sequential_15\"\n",
            "_________________________________________________________________\n",
            "Layer (type)                 Output Shape              Param #   \n",
            "=================================================================\n",
            "embedding_15 (Embedding)     (None, None, 32)          32000     \n",
            "_________________________________________________________________\n",
            "lstm_20 (LSTM)               (None, 8)                 1312      \n",
            "_________________________________________________________________\n",
            "dense_15 (Dense)             (None, 1)                 9         \n",
            "=================================================================\n",
            "Total params: 33,321\n",
            "Trainable params: 33,321\n",
            "Non-trainable params: 0\n",
            "_________________________________________________________________\n",
            "782/782 [==============================] - 64s 79ms/step - loss: 0.6076 - accuracy: 0.6535 - val_loss: 0.4701 - val_accuracy: 0.7827\n",
            "782/782 [==============================] - 7s 9ms/step - loss: 0.4701 - accuracy: 0.7827\n",
            "Test score: 0.47014448046684265\n",
            "Test accuracy: 0.7827200293540955\n"
          ],
          "name": "stdout"
        }
      ]
    },
    {
      "cell_type": "code",
      "metadata": {
        "colab": {
          "base_uri": "https://localhost:8080/"
        },
        "id": "8O4lDslY-tAP",
        "outputId": "1ebb0e39-97ee-428e-af89-1d87ab24568c"
      },
      "source": [
        "model = Sequential()\r\n",
        "model.add(Embedding(max_features, 32))\r\n",
        "model.add(LSTM(8, dropout=0.7, recurrent_dropout=0.5))\r\n",
        "model.add(Dense(1, activation='sigmoid'))\r\n",
        "model.summary()\r\n",
        "\r\n",
        "model.compile(loss='binary_crossentropy', optimizer='adam', metrics=['accuracy'])\r\n",
        "model.fit(x_train, y_train, batch_size=batch_size, epochs=1, validation_data=(x_test, y_test))\r\n",
        "\r\n",
        "score, acc = model.evaluate(x_test, y_test, batch_size=batch_size)\r\n",
        "print('Test score:', score)\r\n",
        "print('Test accuracy:', acc)"
      ],
      "execution_count": 20,
      "outputs": [
        {
          "output_type": "stream",
          "text": [
            "Model: \"sequential_16\"\n",
            "_________________________________________________________________\n",
            "Layer (type)                 Output Shape              Param #   \n",
            "=================================================================\n",
            "embedding_16 (Embedding)     (None, None, 32)          32000     \n",
            "_________________________________________________________________\n",
            "lstm_21 (LSTM)               (None, 8)                 1312      \n",
            "_________________________________________________________________\n",
            "dense_16 (Dense)             (None, 1)                 9         \n",
            "=================================================================\n",
            "Total params: 33,321\n",
            "Trainable params: 33,321\n",
            "Non-trainable params: 0\n",
            "_________________________________________________________________\n",
            "782/782 [==============================] - 61s 74ms/step - loss: 0.6191 - accuracy: 0.6446 - val_loss: 0.4436 - val_accuracy: 0.7959\n",
            "782/782 [==============================] - 7s 9ms/step - loss: 0.4436 - accuracy: 0.7959\n",
            "Test score: 0.4436121881008148\n",
            "Test accuracy: 0.7958800196647644\n"
          ],
          "name": "stdout"
        }
      ]
    },
    {
      "cell_type": "markdown",
      "metadata": {
        "id": "bK0QJhngsH_t"
      },
      "source": [
        "### Write your findings about influence of dropout rate here?\r\n",
        "\r\n",
        "1.   A smaller dropout rate results in better accuracy with similar training times.\r\n",
        "2.   The number of trainable parameters are the same as is to be expected, since dropout has no effect on them.\r\n",
        "3.   The number of epochs used for training is to small to see the possible effect of a too small dropout rate on overfitting.\r\n"
      ]
    },
    {
      "cell_type": "markdown",
      "metadata": {
        "id": "VZu33HjEibBq"
      },
      "source": [
        "## Part 4: Multilayered RNNs\r\n",
        "\r\n",
        "Try the models with different number of layers from smaller to larger.\r\n",
        "\r\n",
        "Analyze the number of model parameters, accuracy and training time"
      ]
    },
    {
      "cell_type": "markdown",
      "metadata": {
        "id": "T26reJlTibBq"
      },
      "source": [
        "### RNN with 2 layer LSTM"
      ]
    },
    {
      "cell_type": "code",
      "metadata": {
        "trusted": true,
        "id": "LScH30z1ibBr",
        "colab": {
          "base_uri": "https://localhost:8080/"
        },
        "outputId": "6855bb04-f582-457d-c0ed-6d9ed649ca10"
      },
      "source": [
        "model = Sequential()\n",
        "model.add(Embedding(max_features, 8))\n",
        "model.add(LSTM(8, dropout=0.0, recurrent_dropout=0.0, return_sequences=True))\n",
        "model.add(LSTM(8, dropout=0.0, recurrent_dropout=0.0, return_sequences=True))\n",
        "model.add(LSTM(8, dropout=0.0, recurrent_dropout=0.0))\n",
        "model.add(Dense(1, activation='sigmoid'))\n",
        "model.summary()\n",
        "\n",
        "model.compile(loss='binary_crossentropy', optimizer='adam', metrics=['accuracy'])\n",
        "model.fit(x_train, y_train, batch_size=batch_size, epochs=1, validation_data=(x_test, y_test))\n",
        "\n",
        "score, acc = model.evaluate(x_test, y_test, batch_size=batch_size)\n",
        "print('Test score:', score)\n",
        "print('Test accuracy:', acc)"
      ],
      "execution_count": 6,
      "outputs": [
        {
          "output_type": "stream",
          "text": [
            "Model: \"sequential_3\"\n",
            "_________________________________________________________________\n",
            "Layer (type)                 Output Shape              Param #   \n",
            "=================================================================\n",
            "embedding_3 (Embedding)      (None, None, 8)           8000      \n",
            "_________________________________________________________________\n",
            "lstm_3 (LSTM)                (None, None, 8)           544       \n",
            "_________________________________________________________________\n",
            "lstm_4 (LSTM)                (None, None, 8)           544       \n",
            "_________________________________________________________________\n",
            "lstm_5 (LSTM)                (None, 8)                 544       \n",
            "_________________________________________________________________\n",
            "dense_3 (Dense)              (None, 1)                 9         \n",
            "=================================================================\n",
            "Total params: 9,641\n",
            "Trainable params: 9,641\n",
            "Non-trainable params: 0\n",
            "_________________________________________________________________\n",
            "782/782 [==============================] - 85s 103ms/step - loss: 0.5816 - accuracy: 0.6641 - val_loss: 0.4387 - val_accuracy: 0.8043\n",
            "782/782 [==============================] - 11s 13ms/step - loss: 0.4387 - accuracy: 0.8043\n",
            "Test score: 0.4386725127696991\n",
            "Test accuracy: 0.8042799830436707\n"
          ],
          "name": "stdout"
        }
      ]
    },
    {
      "cell_type": "markdown",
      "metadata": {
        "id": "9dcVD_Q-ibBt"
      },
      "source": [
        "### RNN with 3 layer LSTM"
      ]
    },
    {
      "cell_type": "code",
      "metadata": {
        "trusted": true,
        "id": "27GyLcMTibBv",
        "colab": {
          "base_uri": "https://localhost:8080/"
        },
        "outputId": "19dd3d85-38aa-4e6d-f98d-2eec22c99dde"
      },
      "source": [
        "# Write your code here. Use the same architecture as above. \n",
        "\n",
        "model = Sequential()\n",
        "model.add(Embedding(max_features, 8))\n",
        "model.add(LSTM(8, dropout=0.0, recurrent_dropout=0.0, return_sequences=True))\n",
        "model.add(LSTM(8, dropout=0.0, recurrent_dropout=0.0, return_sequences=True))\n",
        "model.add(LSTM(8, dropout=0.0, recurrent_dropout=0.0, return_sequences=True))\n",
        "model.add(LSTM(8, dropout=0.0, recurrent_dropout=0.0))\n",
        "model.add(Dense(1, activation='sigmoid'))\n",
        "model.summary()\n",
        "\n",
        "model.compile(loss='binary_crossentropy', optimizer='adam', metrics=['accuracy'])\n",
        "model.fit(x_train, y_train, batch_size=batch_size, epochs=1, validation_data=(x_test, y_test))\n",
        "\n",
        "score, acc = model.evaluate(x_test, y_test, batch_size=batch_size)\n",
        "print('Test score:', score)\n",
        "print('Test accuracy:', acc)"
      ],
      "execution_count": 14,
      "outputs": [
        {
          "output_type": "stream",
          "text": [
            "Model: \"sequential_11\"\n",
            "_________________________________________________________________\n",
            "Layer (type)                 Output Shape              Param #   \n",
            "=================================================================\n",
            "embedding_11 (Embedding)     (None, None, 8)           8000      \n",
            "_________________________________________________________________\n",
            "lstm_13 (LSTM)               (None, None, 8)           544       \n",
            "_________________________________________________________________\n",
            "lstm_14 (LSTM)               (None, None, 8)           544       \n",
            "_________________________________________________________________\n",
            "lstm_15 (LSTM)               (None, None, 8)           544       \n",
            "_________________________________________________________________\n",
            "lstm_16 (LSTM)               (None, 8)                 544       \n",
            "_________________________________________________________________\n",
            "dense_11 (Dense)             (None, 1)                 9         \n",
            "=================================================================\n",
            "Total params: 10,185\n",
            "Trainable params: 10,185\n",
            "Non-trainable params: 0\n",
            "_________________________________________________________________\n",
            "782/782 [==============================] - 107s 129ms/step - loss: 0.5957 - accuracy: 0.6535 - val_loss: 0.4567 - val_accuracy: 0.7912\n",
            "782/782 [==============================] - 14s 18ms/step - loss: 0.4567 - accuracy: 0.7912\n",
            "Test score: 0.45668089389801025\n",
            "Test accuracy: 0.791159987449646\n"
          ],
          "name": "stdout"
        }
      ]
    },
    {
      "cell_type": "markdown",
      "metadata": {
        "id": "gjD_fTTCibBx"
      },
      "source": [
        "### Write your findings about number of layers here?\r\n",
        "\r\n",
        "1.   Adding an extra hidden layer increases trainable parameters and trainig time, as is to be expected.\r\n",
        "2.   On top of that, in this particular case, increase a layer leads to worse accuracy on the test set. This effect cannot be generalized, other data may require deeper networks to correctly classify the inputs.\r\n"
      ]
    },
    {
      "cell_type": "code",
      "metadata": {
        "id": "rIdsk9lGseo4"
      },
      "source": [
        ""
      ],
      "execution_count": null,
      "outputs": []
    }
  ]
}